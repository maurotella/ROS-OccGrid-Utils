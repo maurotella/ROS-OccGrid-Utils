{
 "cells": [
  {
   "cell_type": "code",
   "execution_count": 4,
   "metadata": {},
   "outputs": [],
   "source": [
    "import OccupancyGridUtils as OGU\n",
    "import matplotlib.pyplot as plt\n",
    "import stats\n",
    "import importlib\n",
    "_ = importlib.reload(OGU)"
   ]
  },
  {
   "cell_type": "code",
   "execution_count": 11,
   "metadata": {},
   "outputs": [],
   "source": [
    "SR = stats.SingleRun(107)"
   ]
  },
  {
   "cell_type": "code",
   "execution_count": 30,
   "metadata": {},
   "outputs": [
    {
     "data": {
      "text/plain": [
       "array([[-1., -1., -1., ..., -1., -1., -1.],\n",
       "       [-1., -1., -1., ..., -1., -1., -1.],\n",
       "       [-1., -1., -1., ..., -1., -1., -1.],\n",
       "       ...,\n",
       "       [-1., -1., -1., ..., -1., -1., -1.],\n",
       "       [-1., -1., -1., ..., -1., -1., -1.],\n",
       "       [-1., -1., -1., ..., -1., -1., -1.]])"
      ]
     },
     "execution_count": 30,
     "metadata": {},
     "output_type": "execute_result"
    }
   ],
   "source": [
    "maps_data = []\n",
    "maps_res = []\n",
    "maps_origin = []\n",
    "maps_size = []\n",
    "for r in range(1,SR.get_robot_nr()+1):\n",
    "    map = SR.get_final_map_single(r)['map']\n",
    "    maps_data += [map.data]\n",
    "    maps_res += [map.info.resolution]\n",
    "    maps_origin += [(map.info.origin.position.x,map.info.origin.position.y)]\n",
    "    maps_size += [(map.info.height,map.info.width)]\n",
    "\n",
    "OGU.merge_maps(\n",
    "        maps_data,\n",
    "        maps_res,\n",
    "        maps_origin,\n",
    "        maps_size\n",
    ")"
   ]
  }
 ],
 "metadata": {
  "kernelspec": {
   "display_name": "Python 3",
   "language": "python",
   "name": "python3"
  },
  "language_info": {
   "codemirror_mode": {
    "name": "ipython",
    "version": 3
   },
   "file_extension": ".py",
   "mimetype": "text/x-python",
   "name": "python",
   "nbconvert_exporter": "python",
   "pygments_lexer": "ipython3",
   "version": "3.8.10"
  }
 },
 "nbformat": 4,
 "nbformat_minor": 2
}
